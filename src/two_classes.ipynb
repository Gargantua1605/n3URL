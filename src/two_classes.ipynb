{
 "cells": [
  {
   "cell_type": "code",
   "execution_count": 1,
   "id": "dfd3fe7b",
   "metadata": {},
   "outputs": [],
   "source": [
    "import os\n",
    "import numpy as np\n",
    "import tensorflow as tf\n",
    "from tensorflow import keras"
   ]
  },
  {
   "cell_type": "code",
   "execution_count": 2,
   "id": "08f5ad9b",
   "metadata": {},
   "outputs": [],
   "source": [
    "rest = np.loadtxt(\"rest_data.txt\")\n",
    "right = np.loadtxt(\"right_data.txt\")\n",
    "left = np.loadtxt(\"left_data.txt\")\n",
    "\n",
    "rest_reshaped = np.reshape(rest, (rest.shape[0], rest.shape[1] // 2, 2))\n",
    "right_reshaped = np.reshape(right, (right.shape[0], right.shape[1] // 2, 2))\n",
    "left_reshaped = np.reshape(left, (left.shape[0], left.shape[1] // 2, 2))\n",
    "\n",
    "# rest_label = np.zeros((rest.shape[0], 3))\n",
    "# rest_label[:, 0] = 1\n",
    "right_label = np.zeros((right.shape[0], 2))\n",
    "right_label[:, 0] = 1\n",
    "left_label = np.zeros((left.shape[0], 2))\n",
    "left_label[:, 1] = 1"
   ]
  },
  {
   "cell_type": "code",
   "execution_count": 3,
   "id": "bc34d26a",
   "metadata": {},
   "outputs": [
    {
     "name": "stdout",
     "output_type": "stream",
     "text": [
      "(4768, 640, 2)\n",
      "(2352, 640, 2)\n",
      "(2396, 640, 2)\n"
     ]
    }
   ],
   "source": [
    "print(rest_reshaped.shape)\n",
    "print(right_reshaped.shape)\n",
    "print(left_reshaped.shape)"
   ]
  },
  {
   "cell_type": "code",
   "execution_count": 4,
   "id": "cd0ca49b",
   "metadata": {},
   "outputs": [
    {
     "name": "stdout",
     "output_type": "stream",
     "text": [
      "(4748, 640, 2)\n",
      "(4748, 2)\n",
      "0.000652\n",
      "-0.0005909999999999999\n"
     ]
    }
   ],
   "source": [
    "data = np.concatenate((right_reshaped, left_reshaped), axis = 0)\n",
    "labels = np.concatenate((right_label, left_label), axis = 0)\n",
    "print(data.shape)\n",
    "print(labels.shape)\n",
    "print(np.max(data))\n",
    "print(np.min(data))"
   ]
  },
  {
   "cell_type": "code",
   "execution_count": 5,
   "id": "812a4628",
   "metadata": {},
   "outputs": [
    {
     "name": "stdout",
     "output_type": "stream",
     "text": [
      "(4748, 640, 2)\n",
      "(4748, 2)\n"
     ]
    }
   ],
   "source": [
    "randomize = np.arange(0, data.shape[0], 1)\n",
    "randomize = np.random.permutation(randomize)\n",
    "\n",
    "data = data[randomize]\n",
    "labels = labels[randomize]\n",
    "\n",
    "print(data.shape)\n",
    "print(labels.shape)"
   ]
  },
  {
   "cell_type": "code",
   "execution_count": 6,
   "id": "cf559b71",
   "metadata": {},
   "outputs": [],
   "source": [
    "# 90% training, 10% test\n",
    "# training_x, training_y = data[0:8564], labels[0:8564]\n",
    "# testing_x, testing_y = data[8565:], labels[8565:]\n",
    "\n",
    "training_x, training_y = data[0:4273], labels[0:4273]\n",
    "testing_x, testing_y = data[4274:], labels[4274:]"
   ]
  },
  {
   "cell_type": "code",
   "execution_count": 7,
   "id": "7157f2f2",
   "metadata": {
    "scrolled": true
   },
   "outputs": [],
   "source": [
    "normalizer = keras.layers.experimental.preprocessing.Normalization(mean=0., variance=1.)\n",
    "normalizer.adapt(training_x)"
   ]
  },
  {
   "cell_type": "code",
   "execution_count": 8,
   "id": "5471b426",
   "metadata": {},
   "outputs": [],
   "source": [
    "inputs = keras.Input(shape=(640, 2, 1))"
   ]
  },
  {
   "cell_type": "code",
   "execution_count": 9,
   "id": "2c4b8ad2",
   "metadata": {},
   "outputs": [],
   "source": [
    "from tensorflow.keras import layers\n",
    "\n",
    "x = normalizer(inputs)\n",
    "\n",
    "x = layers.Conv2D(filters=25, kernel_size=[11,1], strides=[1,1], padding=\"valid\")(x)\n",
    "x = layers.LeakyReLU(alpha=0.01)(x)\n",
    "x = layers.SpatialDropout2D(rate=0.5)(x)\n",
    "\n",
    "x = layers.Conv2D(filters=25, kernel_size=[1,2], strides=[1,1], padding=\"valid\")(x)\n",
    "x = layers.BatchNormalization()(x)\n",
    "x = layers.LeakyReLU(alpha=0.01)(x)\n",
    "\n",
    "x = layers.MaxPooling2D(pool_size=[3,1], strides = [3,1], padding=\"valid\")(x)\n",
    "\n",
    "x = layers.Conv2D(filters=50, kernel_size=[11,1], strides=[1,1], padding=\"valid\")(x)\n",
    "x = layers.LeakyReLU(alpha=0.01)(x)\n",
    "x = layers.SpatialDropout2D(rate=0.5)(x)\n",
    "\n",
    "x = layers.MaxPooling2D(pool_size=[3,1], strides = [3,1], padding=\"valid\")(x)\n",
    "\n",
    "x = layers.Conv2D(filters=100, kernel_size=[11,1], strides=[1,1], padding=\"valid\")(x)\n",
    "x = layers.BatchNormalization()(x)\n",
    "x = layers.LeakyReLU(alpha=0.01)(x)\n",
    "x = layers.SpatialDropout2D(rate=0.5)(x)\n",
    "\n",
    "x = layers.MaxPooling2D(pool_size=[3,1], strides = [3,1], padding=\"valid\")(x)\n",
    "\n",
    "x = layers.Conv2D(filters=200, kernel_size=[11,1], strides=[1,1], padding=\"valid\")(x)\n",
    "x = layers.BatchNormalization()(x)\n",
    "x = layers.LeakyReLU(alpha=0.01)(x)\n",
    "\n",
    "x = layers.MaxPooling2D(pool_size=[2,1], strides = [2,1], padding=\"valid\")(x)\n",
    "\n",
    "x = layers.Flatten()(x)\n",
    "\n",
    "num_classes = 2\n",
    "outputs = layers.Dense(num_classes, activation=\"softmax\")(x)"
   ]
  },
  {
   "cell_type": "code",
   "execution_count": 10,
   "id": "9ce0164d",
   "metadata": {},
   "outputs": [],
   "source": [
    "model = keras.Model(inputs=inputs, outputs=outputs)"
   ]
  },
  {
   "cell_type": "code",
   "execution_count": 11,
   "id": "783d1f4c",
   "metadata": {},
   "outputs": [
    {
     "name": "stdout",
     "output_type": "stream",
     "text": [
      "Model: \"model\"\n",
      "_________________________________________________________________\n",
      "Layer (type)                 Output Shape              Param #   \n",
      "=================================================================\n",
      "input_1 (InputLayer)         [(None, 640, 2, 1)]       0         \n",
      "_________________________________________________________________\n",
      "normalization (Normalization (None, 640, 2, 2)         5         \n",
      "_________________________________________________________________\n",
      "conv2d (Conv2D)              (None, 630, 2, 25)        575       \n",
      "_________________________________________________________________\n",
      "leaky_re_lu (LeakyReLU)      (None, 630, 2, 25)        0         \n",
      "_________________________________________________________________\n",
      "spatial_dropout2d (SpatialDr (None, 630, 2, 25)        0         \n",
      "_________________________________________________________________\n",
      "conv2d_1 (Conv2D)            (None, 630, 1, 25)        1275      \n",
      "_________________________________________________________________\n",
      "batch_normalization (BatchNo (None, 630, 1, 25)        100       \n",
      "_________________________________________________________________\n",
      "leaky_re_lu_1 (LeakyReLU)    (None, 630, 1, 25)        0         \n",
      "_________________________________________________________________\n",
      "max_pooling2d (MaxPooling2D) (None, 210, 1, 25)        0         \n",
      "_________________________________________________________________\n",
      "conv2d_2 (Conv2D)            (None, 200, 1, 50)        13800     \n",
      "_________________________________________________________________\n",
      "leaky_re_lu_2 (LeakyReLU)    (None, 200, 1, 50)        0         \n",
      "_________________________________________________________________\n",
      "spatial_dropout2d_1 (Spatial (None, 200, 1, 50)        0         \n",
      "_________________________________________________________________\n",
      "max_pooling2d_1 (MaxPooling2 (None, 66, 1, 50)         0         \n",
      "_________________________________________________________________\n",
      "conv2d_3 (Conv2D)            (None, 56, 1, 100)        55100     \n",
      "_________________________________________________________________\n",
      "batch_normalization_1 (Batch (None, 56, 1, 100)        400       \n",
      "_________________________________________________________________\n",
      "leaky_re_lu_3 (LeakyReLU)    (None, 56, 1, 100)        0         \n",
      "_________________________________________________________________\n",
      "spatial_dropout2d_2 (Spatial (None, 56, 1, 100)        0         \n",
      "_________________________________________________________________\n",
      "max_pooling2d_2 (MaxPooling2 (None, 18, 1, 100)        0         \n",
      "_________________________________________________________________\n",
      "conv2d_4 (Conv2D)            (None, 8, 1, 200)         220200    \n",
      "_________________________________________________________________\n",
      "batch_normalization_2 (Batch (None, 8, 1, 200)         800       \n",
      "_________________________________________________________________\n",
      "leaky_re_lu_4 (LeakyReLU)    (None, 8, 1, 200)         0         \n",
      "_________________________________________________________________\n",
      "max_pooling2d_3 (MaxPooling2 (None, 4, 1, 200)         0         \n",
      "_________________________________________________________________\n",
      "flatten (Flatten)            (None, 800)               0         \n",
      "_________________________________________________________________\n",
      "dense (Dense)                (None, 2)                 1602      \n",
      "=================================================================\n",
      "Total params: 293,857\n",
      "Trainable params: 293,202\n",
      "Non-trainable params: 655\n",
      "_________________________________________________________________\n"
     ]
    }
   ],
   "source": [
    "model.summary()"
   ]
  },
  {
   "cell_type": "code",
   "execution_count": 17,
   "id": "4bd409fd",
   "metadata": {},
   "outputs": [],
   "source": [
    "model.compile(optimizer=keras.optimizers.Adam(learning_rate=1e-5),\n",
    "              loss=keras.losses.BinaryCrossentropy(), metrics=keras.metrics.BinaryAccuracy())"
   ]
  },
  {
   "cell_type": "code",
   "execution_count": 18,
   "id": "327a1fb0",
   "metadata": {},
   "outputs": [
    {
     "name": "stdout",
     "output_type": "stream",
     "text": [
      "Epoch 1/50\n",
      "34/34 [==============================] - 6s 156ms/step - loss: 0.7047 - binary_accuracy: 0.5546\n",
      "Epoch 2/50\n",
      "34/34 [==============================] - 5s 158ms/step - loss: 0.6987 - binary_accuracy: 0.5553\n",
      "Epoch 3/50\n",
      "34/34 [==============================] - 5s 161ms/step - loss: 0.7070 - binary_accuracy: 0.5364\n",
      "Epoch 4/50\n",
      "34/34 [==============================] - 5s 157ms/step - loss: 0.7010 - binary_accuracy: 0.5451\n",
      "Epoch 5/50\n",
      "34/34 [==============================] - 5s 153ms/step - loss: 0.6980 - binary_accuracy: 0.5514\n",
      "Epoch 6/50\n",
      "34/34 [==============================] - 5s 154ms/step - loss: 0.7002 - binary_accuracy: 0.5560\n",
      "Epoch 7/50\n",
      "34/34 [==============================] - 5s 154ms/step - loss: 0.7011 - binary_accuracy: 0.5479\n",
      "Epoch 8/50\n",
      "34/34 [==============================] - 6s 165ms/step - loss: 0.6997 - binary_accuracy: 0.5488\n",
      "Epoch 9/50\n",
      "34/34 [==============================] - 5s 156ms/step - loss: 0.6928 - binary_accuracy: 0.5699\n",
      "Epoch 10/50\n",
      "34/34 [==============================] - 5s 161ms/step - loss: 0.7013 - binary_accuracy: 0.5460\n",
      "Epoch 11/50\n",
      "34/34 [==============================] - 6s 176ms/step - loss: 0.7003 - binary_accuracy: 0.5439\n",
      "Epoch 12/50\n",
      "14/34 [===========>..................] - ETA: 3s - loss: 0.6975 - binary_accuracy: 0.5686"
     ]
    },
    {
     "ename": "KeyboardInterrupt",
     "evalue": "",
     "output_type": "error",
     "traceback": [
      "\u001b[0;31m---------------------------------------------------------------------------\u001b[0m",
      "\u001b[0;31mKeyboardInterrupt\u001b[0m                         Traceback (most recent call last)",
      "\u001b[0;32m<ipython-input-18-400e7418824a>\u001b[0m in \u001b[0;36m<module>\u001b[0;34m\u001b[0m\n\u001b[1;32m      1\u001b[0m history = model.fit(training_x, training_y,\n\u001b[0;32m----> 2\u001b[0;31m           batch_size=128, epochs=50)\n\u001b[0m",
      "\u001b[0;32m~/opt/anaconda3/envs/tf/lib/python3.7/site-packages/tensorflow/python/keras/engine/training.py\u001b[0m in \u001b[0;36mfit\u001b[0;34m(self, x, y, batch_size, epochs, verbose, callbacks, validation_split, validation_data, shuffle, class_weight, sample_weight, initial_epoch, steps_per_epoch, validation_steps, validation_batch_size, validation_freq, max_queue_size, workers, use_multiprocessing)\u001b[0m\n\u001b[1;32m   1181\u001b[0m                 _r=1):\n\u001b[1;32m   1182\u001b[0m               \u001b[0mcallbacks\u001b[0m\u001b[0;34m.\u001b[0m\u001b[0mon_train_batch_begin\u001b[0m\u001b[0;34m(\u001b[0m\u001b[0mstep\u001b[0m\u001b[0;34m)\u001b[0m\u001b[0;34m\u001b[0m\u001b[0;34m\u001b[0m\u001b[0m\n\u001b[0;32m-> 1183\u001b[0;31m               \u001b[0mtmp_logs\u001b[0m \u001b[0;34m=\u001b[0m \u001b[0mself\u001b[0m\u001b[0;34m.\u001b[0m\u001b[0mtrain_function\u001b[0m\u001b[0;34m(\u001b[0m\u001b[0miterator\u001b[0m\u001b[0;34m)\u001b[0m\u001b[0;34m\u001b[0m\u001b[0;34m\u001b[0m\u001b[0m\n\u001b[0m\u001b[1;32m   1184\u001b[0m               \u001b[0;32mif\u001b[0m \u001b[0mdata_handler\u001b[0m\u001b[0;34m.\u001b[0m\u001b[0mshould_sync\u001b[0m\u001b[0;34m:\u001b[0m\u001b[0;34m\u001b[0m\u001b[0;34m\u001b[0m\u001b[0m\n\u001b[1;32m   1185\u001b[0m                 \u001b[0mcontext\u001b[0m\u001b[0;34m.\u001b[0m\u001b[0masync_wait\u001b[0m\u001b[0;34m(\u001b[0m\u001b[0;34m)\u001b[0m\u001b[0;34m\u001b[0m\u001b[0;34m\u001b[0m\u001b[0m\n",
      "\u001b[0;32m~/opt/anaconda3/envs/tf/lib/python3.7/site-packages/tensorflow/python/eager/def_function.py\u001b[0m in \u001b[0;36m__call__\u001b[0;34m(self, *args, **kwds)\u001b[0m\n\u001b[1;32m    887\u001b[0m \u001b[0;34m\u001b[0m\u001b[0m\n\u001b[1;32m    888\u001b[0m       \u001b[0;32mwith\u001b[0m \u001b[0mOptionalXlaContext\u001b[0m\u001b[0;34m(\u001b[0m\u001b[0mself\u001b[0m\u001b[0;34m.\u001b[0m\u001b[0m_jit_compile\u001b[0m\u001b[0;34m)\u001b[0m\u001b[0;34m:\u001b[0m\u001b[0;34m\u001b[0m\u001b[0;34m\u001b[0m\u001b[0m\n\u001b[0;32m--> 889\u001b[0;31m         \u001b[0mresult\u001b[0m \u001b[0;34m=\u001b[0m \u001b[0mself\u001b[0m\u001b[0;34m.\u001b[0m\u001b[0m_call\u001b[0m\u001b[0;34m(\u001b[0m\u001b[0;34m*\u001b[0m\u001b[0margs\u001b[0m\u001b[0;34m,\u001b[0m \u001b[0;34m**\u001b[0m\u001b[0mkwds\u001b[0m\u001b[0;34m)\u001b[0m\u001b[0;34m\u001b[0m\u001b[0;34m\u001b[0m\u001b[0m\n\u001b[0m\u001b[1;32m    890\u001b[0m \u001b[0;34m\u001b[0m\u001b[0m\n\u001b[1;32m    891\u001b[0m       \u001b[0mnew_tracing_count\u001b[0m \u001b[0;34m=\u001b[0m \u001b[0mself\u001b[0m\u001b[0;34m.\u001b[0m\u001b[0mexperimental_get_tracing_count\u001b[0m\u001b[0;34m(\u001b[0m\u001b[0;34m)\u001b[0m\u001b[0;34m\u001b[0m\u001b[0;34m\u001b[0m\u001b[0m\n",
      "\u001b[0;32m~/opt/anaconda3/envs/tf/lib/python3.7/site-packages/tensorflow/python/eager/def_function.py\u001b[0m in \u001b[0;36m_call\u001b[0;34m(self, *args, **kwds)\u001b[0m\n\u001b[1;32m    915\u001b[0m       \u001b[0;31m# In this case we have created variables on the first call, so we run the\u001b[0m\u001b[0;34m\u001b[0m\u001b[0;34m\u001b[0m\u001b[0;34m\u001b[0m\u001b[0m\n\u001b[1;32m    916\u001b[0m       \u001b[0;31m# defunned version which is guaranteed to never create variables.\u001b[0m\u001b[0;34m\u001b[0m\u001b[0;34m\u001b[0m\u001b[0;34m\u001b[0m\u001b[0m\n\u001b[0;32m--> 917\u001b[0;31m       \u001b[0;32mreturn\u001b[0m \u001b[0mself\u001b[0m\u001b[0;34m.\u001b[0m\u001b[0m_stateless_fn\u001b[0m\u001b[0;34m(\u001b[0m\u001b[0;34m*\u001b[0m\u001b[0margs\u001b[0m\u001b[0;34m,\u001b[0m \u001b[0;34m**\u001b[0m\u001b[0mkwds\u001b[0m\u001b[0;34m)\u001b[0m  \u001b[0;31m# pylint: disable=not-callable\u001b[0m\u001b[0;34m\u001b[0m\u001b[0;34m\u001b[0m\u001b[0m\n\u001b[0m\u001b[1;32m    918\u001b[0m     \u001b[0;32melif\u001b[0m \u001b[0mself\u001b[0m\u001b[0;34m.\u001b[0m\u001b[0m_stateful_fn\u001b[0m \u001b[0;32mis\u001b[0m \u001b[0;32mnot\u001b[0m \u001b[0;32mNone\u001b[0m\u001b[0;34m:\u001b[0m\u001b[0;34m\u001b[0m\u001b[0;34m\u001b[0m\u001b[0m\n\u001b[1;32m    919\u001b[0m       \u001b[0;31m# Release the lock early so that multiple threads can perform the call\u001b[0m\u001b[0;34m\u001b[0m\u001b[0;34m\u001b[0m\u001b[0;34m\u001b[0m\u001b[0m\n",
      "\u001b[0;32m~/opt/anaconda3/envs/tf/lib/python3.7/site-packages/tensorflow/python/eager/function.py\u001b[0m in \u001b[0;36m__call__\u001b[0;34m(self, *args, **kwargs)\u001b[0m\n\u001b[1;32m   3022\u001b[0m        filtered_flat_args) = self._maybe_define_function(args, kwargs)\n\u001b[1;32m   3023\u001b[0m     return graph_function._call_flat(\n\u001b[0;32m-> 3024\u001b[0;31m         filtered_flat_args, captured_inputs=graph_function.captured_inputs)  # pylint: disable=protected-access\n\u001b[0m\u001b[1;32m   3025\u001b[0m \u001b[0;34m\u001b[0m\u001b[0m\n\u001b[1;32m   3026\u001b[0m   \u001b[0;34m@\u001b[0m\u001b[0mproperty\u001b[0m\u001b[0;34m\u001b[0m\u001b[0;34m\u001b[0m\u001b[0m\n",
      "\u001b[0;32m~/opt/anaconda3/envs/tf/lib/python3.7/site-packages/tensorflow/python/eager/function.py\u001b[0m in \u001b[0;36m_call_flat\u001b[0;34m(self, args, captured_inputs, cancellation_manager)\u001b[0m\n\u001b[1;32m   1959\u001b[0m       \u001b[0;31m# No tape is watching; skip to running the function.\u001b[0m\u001b[0;34m\u001b[0m\u001b[0;34m\u001b[0m\u001b[0;34m\u001b[0m\u001b[0m\n\u001b[1;32m   1960\u001b[0m       return self._build_call_outputs(self._inference_function.call(\n\u001b[0;32m-> 1961\u001b[0;31m           ctx, args, cancellation_manager=cancellation_manager))\n\u001b[0m\u001b[1;32m   1962\u001b[0m     forward_backward = self._select_forward_and_backward_functions(\n\u001b[1;32m   1963\u001b[0m         \u001b[0margs\u001b[0m\u001b[0;34m,\u001b[0m\u001b[0;34m\u001b[0m\u001b[0;34m\u001b[0m\u001b[0m\n",
      "\u001b[0;32m~/opt/anaconda3/envs/tf/lib/python3.7/site-packages/tensorflow/python/eager/function.py\u001b[0m in \u001b[0;36mcall\u001b[0;34m(self, ctx, args, cancellation_manager)\u001b[0m\n\u001b[1;32m    594\u001b[0m               \u001b[0minputs\u001b[0m\u001b[0;34m=\u001b[0m\u001b[0margs\u001b[0m\u001b[0;34m,\u001b[0m\u001b[0;34m\u001b[0m\u001b[0;34m\u001b[0m\u001b[0m\n\u001b[1;32m    595\u001b[0m               \u001b[0mattrs\u001b[0m\u001b[0;34m=\u001b[0m\u001b[0mattrs\u001b[0m\u001b[0;34m,\u001b[0m\u001b[0;34m\u001b[0m\u001b[0;34m\u001b[0m\u001b[0m\n\u001b[0;32m--> 596\u001b[0;31m               ctx=ctx)\n\u001b[0m\u001b[1;32m    597\u001b[0m         \u001b[0;32melse\u001b[0m\u001b[0;34m:\u001b[0m\u001b[0;34m\u001b[0m\u001b[0;34m\u001b[0m\u001b[0m\n\u001b[1;32m    598\u001b[0m           outputs = execute.execute_with_cancellation(\n",
      "\u001b[0;32m~/opt/anaconda3/envs/tf/lib/python3.7/site-packages/tensorflow/python/eager/execute.py\u001b[0m in \u001b[0;36mquick_execute\u001b[0;34m(op_name, num_outputs, inputs, attrs, ctx, name)\u001b[0m\n\u001b[1;32m     58\u001b[0m     \u001b[0mctx\u001b[0m\u001b[0;34m.\u001b[0m\u001b[0mensure_initialized\u001b[0m\u001b[0;34m(\u001b[0m\u001b[0;34m)\u001b[0m\u001b[0;34m\u001b[0m\u001b[0;34m\u001b[0m\u001b[0m\n\u001b[1;32m     59\u001b[0m     tensors = pywrap_tfe.TFE_Py_Execute(ctx._handle, device_name, op_name,\n\u001b[0;32m---> 60\u001b[0;31m                                         inputs, attrs, num_outputs)\n\u001b[0m\u001b[1;32m     61\u001b[0m   \u001b[0;32mexcept\u001b[0m \u001b[0mcore\u001b[0m\u001b[0;34m.\u001b[0m\u001b[0m_NotOkStatusException\u001b[0m \u001b[0;32mas\u001b[0m \u001b[0me\u001b[0m\u001b[0;34m:\u001b[0m\u001b[0;34m\u001b[0m\u001b[0;34m\u001b[0m\u001b[0m\n\u001b[1;32m     62\u001b[0m     \u001b[0;32mif\u001b[0m \u001b[0mname\u001b[0m \u001b[0;32mis\u001b[0m \u001b[0;32mnot\u001b[0m \u001b[0;32mNone\u001b[0m\u001b[0;34m:\u001b[0m\u001b[0;34m\u001b[0m\u001b[0;34m\u001b[0m\u001b[0m\n",
      "\u001b[0;31mKeyboardInterrupt\u001b[0m: "
     ]
    }
   ],
   "source": [
    "history = model.fit(training_x, training_y,\n",
    "          batch_size=128, epochs=50)"
   ]
  },
  {
   "cell_type": "code",
   "execution_count": null,
   "id": "c88088b6",
   "metadata": {},
   "outputs": [],
   "source": []
  }
 ],
 "metadata": {
  "kernelspec": {
   "display_name": "Python 3",
   "language": "python",
   "name": "python3"
  },
  "language_info": {
   "codemirror_mode": {
    "name": "ipython",
    "version": 3
   },
   "file_extension": ".py",
   "mimetype": "text/x-python",
   "name": "python",
   "nbconvert_exporter": "python",
   "pygments_lexer": "ipython3",
   "version": "3.7.10"
  }
 },
 "nbformat": 4,
 "nbformat_minor": 5
}
