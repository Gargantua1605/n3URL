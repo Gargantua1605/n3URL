{
 "cells": [
  {
   "cell_type": "code",
   "execution_count": 1,
   "id": "cb6c6904",
   "metadata": {},
   "outputs": [],
   "source": [
    "import os\n",
    "import numpy as np\n",
    "import tensorflow as tf\n",
    "from tensorflow import keras"
   ]
  },
  {
   "cell_type": "code",
   "execution_count": 2,
   "id": "6e7e1598",
   "metadata": {},
   "outputs": [],
   "source": [
    "right = np.loadtxt(\"right_data.txt\")\n",
    "left = np.loadtxt(\"left_data.txt\")\n",
    "both_fists = np.loadtxt(\"both_fists_data.txt\")\n",
    "both_feet = np.loadtxt(\"both_feet_data.txt\")\n",
    "\n",
    "right_reshaped = np.reshape(right, (right.shape[0], right.shape[1] // 2, 2))\n",
    "left_reshaped = np.reshape(left, (left.shape[0], left.shape[1] // 2, 2))\n",
    "both_fists_reshaped = np.reshape(both_fists, (both_fists.shape[0], both_fists.shape[1] // 2, 2))\n",
    "both_feet_reshaped = np.reshape(both_feet, (both_feet.shape[0], both_feet.shape[1] // 2, 2))\n",
    "\n",
    "right_label = np.zeros((right.shape[0], 4))\n",
    "right_label[:, 0] = 1\n",
    "left_label = np.zeros((left.shape[0], 4))\n",
    "left_label[:, 1] = 1\n",
    "both_fists_label = np.zeros((both_fists.shape[0], 4))\n",
    "both_fists_label[:, 2] = 1\n",
    "both_feet_label = np.zeros((both_feet.shape[0], 4))\n",
    "both_feet_label[:, 3] = 1"
   ]
  },
  {
   "cell_type": "code",
   "execution_count": 3,
   "id": "c4a1e5d6",
   "metadata": {},
   "outputs": [
    {
     "name": "stdout",
     "output_type": "stream",
     "text": [
      "(2352, 640, 2)\n",
      "(2396, 640, 2)\n",
      "(2375, 640, 2)\n",
      "(2372, 640, 2)\n"
     ]
    }
   ],
   "source": [
    "print(right_reshaped.shape)\n",
    "print(left_reshaped.shape)\n",
    "print(both_fists_reshaped.shape)\n",
    "print(both_feet_reshaped.shape)"
   ]
  },
  {
   "cell_type": "code",
   "execution_count": 4,
   "id": "2fea1623",
   "metadata": {},
   "outputs": [
    {
     "name": "stdout",
     "output_type": "stream",
     "text": [
      "(9495, 640, 2)\n",
      "(9495, 4)\n",
      "0.000783\n",
      "-0.000685\n"
     ]
    }
   ],
   "source": [
    "data = np.concatenate((right_reshaped, left_reshaped, both_fists_reshaped, both_feet_reshaped), axis = 0)\n",
    "labels = np.concatenate((right_label, left_label, both_fists_label, both_feet_label), axis = 0)\n",
    "print(data.shape)\n",
    "print(labels.shape)\n",
    "print(np.max(data))\n",
    "print(np.min(data))"
   ]
  },
  {
   "cell_type": "code",
   "execution_count": 5,
   "id": "aa728cf9",
   "metadata": {},
   "outputs": [
    {
     "name": "stdout",
     "output_type": "stream",
     "text": [
      "(9495, 640, 2)\n",
      "(9495, 4)\n"
     ]
    }
   ],
   "source": [
    "randomize = np.arange(0, data.shape[0], 1)\n",
    "randomize = np.random.permutation(randomize)\n",
    "\n",
    "data = data[randomize]\n",
    "labels = labels[randomize]\n",
    "\n",
    "print(data.shape)\n",
    "print(labels.shape)"
   ]
  },
  {
   "cell_type": "code",
   "execution_count": 6,
   "id": "50c368b2",
   "metadata": {},
   "outputs": [],
   "source": [
    "training_x, training_y = data[0:8544], labels[0:8544]\n",
    "testing_x, testing_y = data[8545:], labels[8545:]"
   ]
  },
  {
   "cell_type": "code",
   "execution_count": 7,
   "id": "9890883c",
   "metadata": {},
   "outputs": [],
   "source": [
    "normalizer = keras.layers.experimental.preprocessing.Normalization(axis=-1, mean=0., variance=1.)\n",
    "normalizer.adapt(training_x)"
   ]
  },
  {
   "cell_type": "code",
   "execution_count": 8,
   "id": "408d1972",
   "metadata": {},
   "outputs": [],
   "source": [
    "inputs = keras.Input(shape=(640, 2, 1))"
   ]
  },
  {
   "cell_type": "code",
   "execution_count": 9,
   "id": "9a5652ce",
   "metadata": {},
   "outputs": [],
   "source": [
    "from tensorflow.keras import layers\n",
    "\n",
    "x = layers.Conv2D(filters=25, kernel_size=[11,1], strides=[1,1], padding=\"valid\")(inputs)\n",
    "x = layers.LeakyReLU(alpha=0.01)(x)\n",
    "x = layers.SpatialDropout2D(rate=0.5)(x)\n",
    "\n",
    "x = layers.Conv2D(filters=25, kernel_size=[1,2], strides=[1,1], padding=\"valid\")(x)\n",
    "x = layers.BatchNormalization()(x)\n",
    "x = layers.LeakyReLU(alpha=0.01)(x)\n",
    "\n",
    "x = layers.MaxPooling2D(pool_size=[3,1], strides = [3,1], padding=\"valid\")(x)\n",
    "\n",
    "x = layers.Conv2D(filters=50, kernel_size=[11,1], strides=[1,1], padding=\"valid\")(x)\n",
    "x = layers.LeakyReLU(alpha=0.01)(x)\n",
    "x = layers.SpatialDropout2D(rate=0.5)(x)\n",
    "\n",
    "x = layers.MaxPooling2D(pool_size=[3,1], strides = [3,1], padding=\"valid\")(x)\n",
    "\n",
    "x = layers.Conv2D(filters=100, kernel_size=[11,1], strides=[1,1], padding=\"valid\")(x)\n",
    "x = layers.BatchNormalization()(x)\n",
    "x = layers.LeakyReLU(alpha=0.01)(x)\n",
    "x = layers.SpatialDropout2D(rate=0.5)(x)\n",
    "\n",
    "x = layers.MaxPooling2D(pool_size=[3,1], strides = [3,1], padding=\"valid\")(x)\n",
    "\n",
    "x = layers.Conv2D(filters=200, kernel_size=[11,1], strides=[1,1], padding=\"valid\")(x)\n",
    "x = layers.BatchNormalization()(x)\n",
    "x = layers.LeakyReLU(alpha=0.01)(x)\n",
    "\n",
    "x = layers.MaxPooling2D(pool_size=[2,1], strides = [2,1], padding=\"valid\")(x)\n",
    "\n",
    "x = layers.Flatten()(x)\n",
    "\n",
    "num_classes = 4\n",
    "outputs = layers.Dense(num_classes, activation=\"softmax\")(x)"
   ]
  },
  {
   "cell_type": "code",
   "execution_count": 10,
   "id": "c1e4e932",
   "metadata": {},
   "outputs": [],
   "source": [
    "model = keras.Model(inputs=inputs, outputs=outputs)"
   ]
  },
  {
   "cell_type": "code",
   "execution_count": 11,
   "id": "112311e7",
   "metadata": {},
   "outputs": [
    {
     "name": "stdout",
     "output_type": "stream",
     "text": [
      "Model: \"model\"\n",
      "_________________________________________________________________\n",
      "Layer (type)                 Output Shape              Param #   \n",
      "=================================================================\n",
      "input_1 (InputLayer)         [(None, 640, 2, 1)]       0         \n",
      "_________________________________________________________________\n",
      "conv2d (Conv2D)              (None, 630, 2, 25)        300       \n",
      "_________________________________________________________________\n",
      "leaky_re_lu (LeakyReLU)      (None, 630, 2, 25)        0         \n",
      "_________________________________________________________________\n",
      "spatial_dropout2d (SpatialDr (None, 630, 2, 25)        0         \n",
      "_________________________________________________________________\n",
      "conv2d_1 (Conv2D)            (None, 630, 1, 25)        1275      \n",
      "_________________________________________________________________\n",
      "batch_normalization (BatchNo (None, 630, 1, 25)        100       \n",
      "_________________________________________________________________\n",
      "leaky_re_lu_1 (LeakyReLU)    (None, 630, 1, 25)        0         \n",
      "_________________________________________________________________\n",
      "max_pooling2d (MaxPooling2D) (None, 210, 1, 25)        0         \n",
      "_________________________________________________________________\n",
      "conv2d_2 (Conv2D)            (None, 200, 1, 50)        13800     \n",
      "_________________________________________________________________\n",
      "leaky_re_lu_2 (LeakyReLU)    (None, 200, 1, 50)        0         \n",
      "_________________________________________________________________\n",
      "spatial_dropout2d_1 (Spatial (None, 200, 1, 50)        0         \n",
      "_________________________________________________________________\n",
      "max_pooling2d_1 (MaxPooling2 (None, 66, 1, 50)         0         \n",
      "_________________________________________________________________\n",
      "conv2d_3 (Conv2D)            (None, 56, 1, 100)        55100     \n",
      "_________________________________________________________________\n",
      "batch_normalization_1 (Batch (None, 56, 1, 100)        400       \n",
      "_________________________________________________________________\n",
      "leaky_re_lu_3 (LeakyReLU)    (None, 56, 1, 100)        0         \n",
      "_________________________________________________________________\n",
      "spatial_dropout2d_2 (Spatial (None, 56, 1, 100)        0         \n",
      "_________________________________________________________________\n",
      "max_pooling2d_2 (MaxPooling2 (None, 18, 1, 100)        0         \n",
      "_________________________________________________________________\n",
      "conv2d_4 (Conv2D)            (None, 8, 1, 200)         220200    \n",
      "_________________________________________________________________\n",
      "batch_normalization_2 (Batch (None, 8, 1, 200)         800       \n",
      "_________________________________________________________________\n",
      "leaky_re_lu_4 (LeakyReLU)    (None, 8, 1, 200)         0         \n",
      "_________________________________________________________________\n",
      "max_pooling2d_3 (MaxPooling2 (None, 4, 1, 200)         0         \n",
      "_________________________________________________________________\n",
      "flatten (Flatten)            (None, 800)               0         \n",
      "_________________________________________________________________\n",
      "dense (Dense)                (None, 4)                 3204      \n",
      "=================================================================\n",
      "Total params: 295,179\n",
      "Trainable params: 294,529\n",
      "Non-trainable params: 650\n",
      "_________________________________________________________________\n"
     ]
    }
   ],
   "source": [
    "model.summary()"
   ]
  },
  {
   "cell_type": "code",
   "execution_count": 18,
   "id": "ee290ef8",
   "metadata": {},
   "outputs": [],
   "source": [
    "model.compile(optimizer=keras.optimizers.Adam(learning_rate=1e-5),\n",
    "              loss=keras.losses.CategoricalCrossentropy(), metrics=keras.metrics.CategoricalAccuracy())"
   ]
  },
  {
   "cell_type": "code",
   "execution_count": 19,
   "id": "cee97550",
   "metadata": {},
   "outputs": [
    {
     "name": "stdout",
     "output_type": "stream",
     "text": [
      "Epoch 1/10\n",
      "67/67 [==============================] - 11s 149ms/step - loss: 1.3862 - categorical_accuracy: 0.2484\n",
      "Epoch 2/10\n",
      "67/67 [==============================] - 10s 144ms/step - loss: 1.3863 - categorical_accuracy: 0.2508\n",
      "Epoch 3/10\n",
      "67/67 [==============================] - 10s 150ms/step - loss: 1.3861 - categorical_accuracy: 0.2546\n",
      "Epoch 4/10\n",
      "67/67 [==============================] - 11s 159ms/step - loss: 1.3863 - categorical_accuracy: 0.2471\n",
      "Epoch 5/10\n",
      "67/67 [==============================] - 11s 158ms/step - loss: 1.3862 - categorical_accuracy: 0.2554\n",
      "Epoch 6/10\n",
      "67/67 [==============================] - 11s 160ms/step - loss: 1.3861 - categorical_accuracy: 0.2540\n",
      "Epoch 7/10\n",
      "67/67 [==============================] - 10s 153ms/step - loss: 1.3858 - categorical_accuracy: 0.2592\n",
      "Epoch 8/10\n",
      "67/67 [==============================] - 11s 160ms/step - loss: 1.3862 - categorical_accuracy: 0.2525\n",
      "Epoch 9/10\n",
      "67/67 [==============================] - 10s 151ms/step - loss: 1.3861 - categorical_accuracy: 0.2505\n",
      "Epoch 10/10\n",
      "67/67 [==============================] - 10s 155ms/step - loss: 1.3858 - categorical_accuracy: 0.2501\n"
     ]
    }
   ],
   "source": [
    "history = model.fit(training_x, training_y,\n",
    "          batch_size=128, epochs=10)"
   ]
  },
  {
   "cell_type": "code",
   "execution_count": null,
   "id": "503ef225",
   "metadata": {},
   "outputs": [],
   "source": []
  }
 ],
 "metadata": {
  "kernelspec": {
   "display_name": "Python 3",
   "language": "python",
   "name": "python3"
  },
  "language_info": {
   "codemirror_mode": {
    "name": "ipython",
    "version": 3
   },
   "file_extension": ".py",
   "mimetype": "text/x-python",
   "name": "python",
   "nbconvert_exporter": "python",
   "pygments_lexer": "ipython3",
   "version": "3.7.10"
  }
 },
 "nbformat": 4,
 "nbformat_minor": 5
}
